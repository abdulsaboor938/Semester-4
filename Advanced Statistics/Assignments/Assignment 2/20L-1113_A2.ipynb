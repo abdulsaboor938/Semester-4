{
 "cells": [
  {
   "cell_type": "code",
   "execution_count": 7,
   "metadata": {},
   "outputs": [
    {
     "name": "stdout",
     "output_type": "stream",
     "text": [
      "The yield of chemical process at 35 degrees Celsius: 86.83248816768075\n"
     ]
    }
   ],
   "source": [
    "import pandas as pd\n",
    "import numpy as np\n",
    "# data=pd.read_csv('Chem_Process.csv')\n",
    "\n",
    "# x=np.array(data['Temperature'])\n",
    "# y=np.array(data['Yield'])\n",
    "# x=np.vstack([x,np.ones(len(x))]).T\n",
    "# m,c=np.linalg.lstsq(x,y)[0]\n",
    "\n",
    "# print(f'Regression line is: yhat = ({m})x + {c}')\n",
    "x=35\n",
    "print(f'The yield of chemical process at 35 degrees Celsius: {m*x+c}')"
   ]
  }
 ],
 "metadata": {
  "interpreter": {
   "hash": "949510482b8eeb0db0de64008f8e13a21a90dd06afd7a8e21dd837eed22f74f3"
  },
  "kernelspec": {
   "display_name": "Python 3.9.7 ('base')",
   "language": "python",
   "name": "python3"
  },
  "language_info": {
   "codemirror_mode": {
    "name": "ipython",
    "version": 3
   },
   "file_extension": ".py",
   "mimetype": "text/x-python",
   "name": "python",
   "nbconvert_exporter": "python",
   "pygments_lexer": "ipython3",
   "version": "3.9.7"
  },
  "orig_nbformat": 4
 },
 "nbformat": 4,
 "nbformat_minor": 2
}
