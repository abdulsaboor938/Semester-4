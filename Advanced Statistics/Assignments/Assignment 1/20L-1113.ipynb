{
 "cells": [
  {
   "cell_type": "markdown",
   "metadata": {},
   "source": [
    "### This file contains an implementation of question # 6 from assignment # 1 of Advanced Statistics"
   ]
  },
  {
   "cell_type": "markdown",
   "metadata": {},
   "source": [
    "An economist wants to determine whether the monthly energy cost for families has changed\n",
    "from the previous year, when the mean cost per month was PKR 47060. The economist randomly\n",
    "samples 35 families and records their energy costs for the current year (please view them in the\n",
    "attached CSV file). Develop a hypothesis test using α = 0.05 to test whether the population mean\n",
    "equals the hypothesized mean (PKR 47060), or it is different from this mean."
   ]
  },
  {
   "cell_type": "code",
   "execution_count": 2,
   "metadata": {},
   "outputs": [],
   "source": [
    "import pandas as pd\n",
    "import numpy as np\n",
    "import scipy.stats"
   ]
  },
  {
   "cell_type": "code",
   "execution_count": 13,
   "metadata": {},
   "outputs": [
    {
     "name": "stdout",
     "output_type": "stream",
     "text": [
      "The mean of data is 63246.57142857143, the standard deviation is 27321.983264166513\n",
      "The standard error of data is 4618.25808066633\n",
      "The z-value of data is -3.504908375808223\n",
      "The p-value of data is 0.0004567644500036998\n"
     ]
    }
   ],
   "source": [
    "\"\"\"\n",
    "H-not: µ is equal to 47060\n",
    "H-alt: µ is not equal to 47060 (two-tailed)\n",
    "\n",
    "α is 0.05 (5%)\n",
    "\"\"\"\n",
    "\n",
    "data=pd.read_csv(\"FuelCostsPkr.csv\") # reading csv file in a dataframe\n",
    "\n",
    "# calculating mean and std of data\n",
    "data_mean=data[\"Fuel Cost\"].mean()\n",
    "data_std=data[\"Fuel Cost\"].std()\n",
    "print(f\"The mean of data is {data_mean}, the standard deviation is {data_std}\")\n",
    "\n",
    "# calculating standard error\n",
    "std_err=(data_std/(len(data[\"Family ID\"])**0.5))\n",
    "print(f\"The standard error of data is {std_err}\")\n",
    "\n",
    "# calculating the z-value of data\n",
    "z_val=((47060-data_mean)/std_err)\n",
    "print(f\"The z-value of data is {z_val}\")\n",
    "\n",
    "# calculating the p-value based on the z-value of data\n",
    "p_val=scipy.stats.norm.sf(abs(z_val))*2\n",
    "print(f\"The p-value of data is {p_val}\")\n",
    "\n",
    "# Since the p-value is <0.05, our result is statistically significant meaning we can reject H-not."
   ]
  }
 ],
 "metadata": {
  "interpreter": {
   "hash": "949510482b8eeb0db0de64008f8e13a21a90dd06afd7a8e21dd837eed22f74f3"
  },
  "kernelspec": {
   "display_name": "Python 3.9.7 ('base')",
   "language": "python",
   "name": "python3"
  },
  "language_info": {
   "codemirror_mode": {
    "name": "ipython",
    "version": 3
   },
   "file_extension": ".py",
   "mimetype": "text/x-python",
   "name": "python",
   "nbconvert_exporter": "python",
   "pygments_lexer": "ipython3",
   "version": "3.9.7"
  },
  "orig_nbformat": 4
 },
 "nbformat": 4,
 "nbformat_minor": 2
}
