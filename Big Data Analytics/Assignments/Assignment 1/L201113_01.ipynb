{
  "cells": [
    {
      "cell_type": "markdown",
      "metadata": {
        "id": "erfK8t1iuudL"
      },
      "source": [
        "##Task 1\n",
        "\n",
        "###1.1 Write a function that reurns Count number of lines in txt file"
      ]
    },
    {
      "cell_type": "code",
      "execution_count": 298,
      "metadata": {
        "id": "gfMPfvKluuD4"
      },
      "outputs": [],
      "source": [
        "def NumOfLines(filename):\n",
        "  with open(filename) as file: # opening file\n",
        "    return len(file.readlines()) # returning number of lines"
      ]
    },
    {
      "cell_type": "code",
      "execution_count": 297,
      "metadata": {
        "id": "vZK_nMSwz5I_"
      },
      "outputs": [
        {
          "name": "stdout",
          "output_type": "stream",
          "text": [
            "Number of Lines are  4735\n"
          ]
        }
      ],
      "source": [
        "count = NumOfLines(\"Text_File.txt\")\n",
        "print(\"Number of Lines are \", count)"
      ]
    },
    {
      "cell_type": "markdown",
      "metadata": {
        "id": "CbKMN0PsvTc4"
      },
      "source": [
        "###1.2 Write a function that reurns Count number of words in txt file"
      ]
    },
    {
      "cell_type": "code",
      "execution_count": null,
      "metadata": {
        "id": "-iWt8XAvuss3"
      },
      "outputs": [],
      "source": [
        "def NumOfWords(filename):\n",
        "  words=0\n",
        "  with open(filename) as file: # opening file\n",
        "    return len(file.read().split()) # splitting and counting words"
      ]
    },
    {
      "cell_type": "code",
      "execution_count": null,
      "metadata": {
        "id": "EkHkdf1Svovt"
      },
      "outputs": [],
      "source": [
        "num = NumOfWords(\"Text_File.txt\")\n",
        "print(\"Number of words are \", num)"
      ]
    },
    {
      "cell_type": "markdown",
      "metadata": {
        "id": "j33bUTELvtQW"
      },
      "source": [
        "##Task 2\n",
        "Write a function that reurns a dataframe with two columns having stop words in one col and their count in the other."
      ]
    },
    {
      "cell_type": "code",
      "execution_count": null,
      "metadata": {
        "id": "xEr9ZDyIvsQ-"
      },
      "outputs": [],
      "source": [
        "# focus again on this task\n",
        "\n",
        "def CreateDF(fileName):\n",
        "\n",
        "    # importing stop words\n",
        "    import nltk\n",
        "    nltk.download('stopwords')\n",
        "    from nltk.corpus import stopwords\n",
        "    stop = {i:0 for i in stopwords.words('english')}\n",
        "\n",
        "    with open(fileName) as file: # opening file\n",
        "        for j in file.read().split(): # looping through words in each line\n",
        "            if j in stop: # checking if stop word\n",
        "                stop[j]+=1 # increasing count of stop word\n",
        "    import pandas as pd\n",
        "    return pd.DataFrame({'stop_words':stop.keys(),'count':stop.values()}) # creating a dataframe of words and their count"
      ]
    },
    {
      "cell_type": "code",
      "execution_count": null,
      "metadata": {
        "id": "Q1E80nKiwAos"
      },
      "outputs": [],
      "source": [
        "df = CreateDF(\"Text_File.txt\")\n",
        "df"
      ]
    },
    {
      "cell_type": "markdown",
      "metadata": {
        "id": "sRp5uBLKwD1I"
      },
      "source": [
        "##Task 3\n",
        "Now generate a txt file named RollnumberWS.txt having all content of the given file but excluding stopwords."
      ]
    },
    {
      "cell_type": "code",
      "execution_count": null,
      "metadata": {
        "id": "RZul2aEMwI5k"
      },
      "outputs": [],
      "source": [
        "def WithoutSW(filename, filetowritein):\n",
        "    # importing library to remove stop words\n",
        "    from nltk.corpus import stopwords\n",
        "    stop_words = set(stopwords.words('english'))\n",
        "\n",
        "    filer=open(filetowritein,'a') # opening file to write to\n",
        "    with open(filename) as file: # opening file to read from\n",
        "        for j in file.read().split(): # looping through words in a line\n",
        "            if not j in stop_words: # checking if word is not in stop words\n",
        "                filer.write(\" \"+j) # writing back to file\n",
        "    filer.close() # closing write file"
      ]
    },
    {
      "cell_type": "code",
      "execution_count": null,
      "metadata": {
        "id": "aAlyQTV2wXJj"
      },
      "outputs": [],
      "source": [
        "WithoutSW(\"Text_File.txt\", \"20L-1113WS.txt\")"
      ]
    },
    {
      "cell_type": "markdown",
      "metadata": {
        "id": "xQu1uJqDwW00"
      },
      "source": [
        "##Task 4\n",
        "Write a function that displays all words having length greater than 5."
      ]
    },
    {
      "cell_type": "code",
      "execution_count": null,
      "metadata": {
        "id": "QS8LuhQvwnbL"
      },
      "outputs": [],
      "source": [
        "def GreaterThan5(fileName):\n",
        "   with open(fileName) as file: # reading from file\n",
        "        for j in file.read().split(): # looping through words in a line\n",
        "            if len(j)>4: # validating length\n",
        "                print(j) # printing after validation"
      ]
    },
    {
      "cell_type": "code",
      "execution_count": null,
      "metadata": {
        "id": "3K4JoLYrws-M"
      },
      "outputs": [],
      "source": [
        "GreaterThan5(\"Text_File.txt\")"
      ]
    },
    {
      "cell_type": "markdown",
      "metadata": {
        "id": "m5Lc-EQuwxRj"
      },
      "source": [
        "##Task 5\n",
        "Write a function that returns the count of all words which end at y."
      ]
    },
    {
      "cell_type": "code",
      "execution_count": null,
      "metadata": {
        "id": "dJzEZ9AFxKul"
      },
      "outputs": [],
      "source": [
        "def EndAty(filename):\n",
        "  yEnding=0 # initializing variable\n",
        "  with open(filename) as file: # opening file\n",
        "    for j in file.read().split(): # looping through words in a line\n",
        "      if (len(j)>0 and j[-1]=='y'): # validating length and last word\n",
        "        yEnding += 1 # incrementing variable\n",
        "  return yEnding # returning value"
      ]
    },
    {
      "cell_type": "code",
      "execution_count": null,
      "metadata": {
        "id": "Hkrp_W4sxPDc"
      },
      "outputs": [],
      "source": [
        "w = EndAty(\"Text_file.txt\")\n",
        "w"
      ]
    },
    {
      "cell_type": "markdown",
      "metadata": {
        "id": "DxvGHnwaxS9u"
      },
      "source": [
        "##Task 6\n",
        "Write a function that prints the count of lowercase letters in the file."
      ]
    },
    {
      "cell_type": "code",
      "execution_count": 1,
      "metadata": {
        "id": "LuCPakz4xYuC"
      },
      "outputs": [],
      "source": [
        "def CountLower(filename):\n",
        "    count=0 # initializing variable\n",
        "    with open(filename) as file: # opening file\n",
        "        for j in file.read(): # looping through lines of file\n",
        "            if(j>='a' and j<='z'): # validating lowercase letters\n",
        "                count+=1 # incrementing count\n",
        "    print(f\"Count of lower case letters in file is: {count}\") # printing count"
      ]
    },
    {
      "cell_type": "code",
      "execution_count": 2,
      "metadata": {
        "id": "7mB_Cx0CxdXb"
      },
      "outputs": [
        {
          "name": "stdout",
          "output_type": "stream",
          "text": [
            "Count of lower case letters in file is: 138410\n"
          ]
        }
      ],
      "source": [
        "CountLower(\"Text_File.txt\")"
      ]
    },
    {
      "cell_type": "markdown",
      "metadata": {
        "id": "tzAQ3voGxenV"
      },
      "source": [
        "##Task 7 \n",
        "Write a function to replace all \"the\" with \"thee\"."
      ]
    },
    {
      "cell_type": "code",
      "execution_count": null,
      "metadata": {
        "id": "EEY79-N1xeUT"
      },
      "outputs": [],
      "source": [
        "def ReplaceThe(filename):\n",
        "    with open(filename) as file: # opening file\n",
        "        for j in file.read().split(): # looping file and splitting all words\n",
        "            if j=='the': # validating word\n",
        "                print('thee', end=' ') # printing 'thee' if 'the' is found\n",
        "            else: # printing all other words\n",
        "                print(j,end=' ')"
      ]
    },
    {
      "cell_type": "code",
      "execution_count": null,
      "metadata": {
        "id": "paxgYJEkxo73"
      },
      "outputs": [],
      "source": [
        "ReplaceThe(\"Text_File.txt\")"
      ]
    },
    {
      "cell_type": "markdown",
      "metadata": {
        "id": "gHtVLQzHxqDa"
      },
      "source": [
        "##Task 8\n",
        "Write a function ZICount() that prints the count of all occurences of Z and I (including small cases a and i too)\n",
        "For example: Hi! I am Zenia. It was so good to see you! \n",
        "####Output: \n",
        "I or i : 4\n",
        "\n",
        "Z or z : 1\n"
      ]
    },
    {
      "cell_type": "code",
      "execution_count": null,
      "metadata": {
        "id": "AzuW9kPmxpvS"
      },
      "outputs": [],
      "source": [
        "def ZICount(filename):\n",
        "    zcount=0; icount=0 # initializing variables\n",
        "    with open(filename) as file:\n",
        "        for j in file.read(): # looping through file\n",
        "            if(j=='Z' or j=='z'): # validating z\n",
        "                zcount+=1 # updating z's count\n",
        "            elif(j=='I' or j=='i'): # validating i\n",
        "                icount+=1 # updating i's count\n",
        "    print(f\"I or i: {icount}\\n\\nZ or z: {zcount}\") # printing all counts"
      ]
    },
    {
      "cell_type": "code",
      "execution_count": null,
      "metadata": {
        "id": "hRqosNj-yE1s"
      },
      "outputs": [],
      "source": [
        "ZICount(\"Text_File.txt\")"
      ]
    },
    {
      "cell_type": "markdown",
      "metadata": {
        "id": "pcwK-ALVyHlQ"
      },
      "source": [
        "##Task 9\n",
        "Write a function to display the content of a file in ascending order (based on the word count)\n",
        "\n",
        "Content: I am confused to start it but it won't be done until I give it a try\n",
        "\n",
        "Output: I it to a am be confused done give start try until wont.\n"
      ]
    },
    {
      "cell_type": "code",
      "execution_count": null,
      "metadata": {
        "id": "YShxmMDFyLbw"
      },
      "outputs": [],
      "source": [
        "def CountAsc(filename):\n",
        "    temp=[]\n",
        "    with open(filename) as file: # opening file\n",
        "        for j in file.read().split(): # reading from file checking each word\n",
        "            if(j not in temp): # checking if not present\n",
        "                temp.append(j) # appending if not present\n",
        "    print(sorted(temp,key=len)) # printing a list sorted by length of letters"
      ]
    },
    {
      "cell_type": "code",
      "execution_count": null,
      "metadata": {
        "id": "m7Erk1_0yYkm"
      },
      "outputs": [],
      "source": [
        "CountAsc(\"Text_File.txt\")"
      ]
    },
    {
      "cell_type": "markdown",
      "metadata": {
        "id": "rjdfcoodyZSl"
      },
      "source": [
        "##Task 10\n",
        "10.\tWrite a function alter_Upper that prints the content in a way that the first line is in Upper case, second in lower case and so on.\n",
        "\n",
        "Example: \n",
        "I am Zenia\n",
        "I love painting\n",
        "I live in Pakistan\n",
        "\n",
        "Output:\n",
        "i am zenia\n",
        "I LOVE PAINTING\n",
        "i live in pakistan\n"
      ]
    },
    {
      "cell_type": "code",
      "execution_count": null,
      "metadata": {
        "id": "9uG9Nid_ygSJ"
      },
      "outputs": [],
      "source": [
        "# This implementaion is based on the example provided\n",
        "\n",
        "def alter_Upper(filename):\n",
        "    with open(filename) as file: # opening file\n",
        "        for i in file: # looping through each line\n",
        "            print(i.lower(),end='') # printing lowercase\n",
        "            print(file.readline().upper(),end='') # printing uppercase"
      ]
    },
    {
      "cell_type": "code",
      "execution_count": null,
      "metadata": {
        "id": "uxkfWjC6ymnd"
      },
      "outputs": [],
      "source": [
        "alter_Upper(\"Text_File.txt\")"
      ]
    },
    {
      "cell_type": "markdown",
      "metadata": {
        "id": "PYediyB6ynU3"
      },
      "source": [
        "#                             GOOD LUCK!"
      ]
    }
  ],
  "metadata": {
    "colab": {
      "collapsed_sections": [],
      "name": "RollNumber01.ipynb",
      "provenance": []
    },
    "kernelspec": {
      "display_name": "Python 3",
      "name": "python3"
    },
    "language_info": {
      "codemirror_mode": {
        "name": "ipython",
        "version": 3
      },
      "file_extension": ".py",
      "mimetype": "text/x-python",
      "name": "python",
      "nbconvert_exporter": "python",
      "pygments_lexer": "ipython3",
      "version": "3.9.7"
    }
  },
  "nbformat": 4,
  "nbformat_minor": 0
}
