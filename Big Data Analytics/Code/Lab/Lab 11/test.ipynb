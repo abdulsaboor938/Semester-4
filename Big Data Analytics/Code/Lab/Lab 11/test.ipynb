{
 "cells": [
  {
   "cell_type": "code",
   "execution_count": 21,
   "metadata": {},
   "outputs": [
    {
     "name": "stdout",
     "output_type": "stream",
     "text": [
      "45\n"
     ]
    }
   ],
   "source": [
    "temp=[]\n",
    "with open('Task2.txt') as file:\n",
    "    for i in file:\n",
    "        temp+=file\n",
    "with open('Task3.txt') as file:\n",
    "    for i in file:\n",
    "        temp+=file\n",
    "# for i in temp:\n",
    "#     print(i,end='')\n",
    "print(len(temp))"
   ]
  },
  {
   "cell_type": "code",
   "execution_count": 30,
   "metadata": {},
   "outputs": [
    {
     "name": "stdout",
     "output_type": "stream",
     "text": [
      "Traceback (most recent call last):\n",
      "  File \"/Users/carbon/Desktop/Semester-4/Big Data Analytics/Code/Lab/Lab 11/Task4r.py\", line 26, in <module>\n",
      "    if(x[1] != '<'):\n",
      "IndexError: list index out of range\n",
      "\n",
      "During handling of the above exception, another exception occurred:\n",
      "\n",
      "Traceback (most recent call last):\n",
      "  File \"/Users/carbon/Desktop/Semester-4/Big Data Analytics/Code/Lab/Lab 11/Task4r.py\", line 29, in <module>\n",
      "    temp.append(f\"{x[2]}\\t{x[0]}\\t{x[3]}\")\n",
      "IndexError: list index out of range\n"
     ]
    }
   ],
   "source": [
    "!cat Task2.txt Task3.txt | python Task4r.py"
   ]
  },
  {
   "cell_type": "code",
   "execution_count": null,
   "metadata": {},
   "outputs": [],
   "source": [
    "!cat Dataset.txt | python Task3m.py | sort -k1,1 | python Task3r.py"
   ]
  }
 ],
 "metadata": {
  "interpreter": {
   "hash": "949510482b8eeb0db0de64008f8e13a21a90dd06afd7a8e21dd837eed22f74f3"
  },
  "kernelspec": {
   "display_name": "Python 3.9.7 ('base')",
   "language": "python",
   "name": "python3"
  },
  "language_info": {
   "codemirror_mode": {
    "name": "ipython",
    "version": 3
   },
   "file_extension": ".py",
   "mimetype": "text/x-python",
   "name": "python",
   "nbconvert_exporter": "python",
   "pygments_lexer": "ipython3",
   "version": "3.9.7"
  },
  "orig_nbformat": 4
 },
 "nbformat": 4,
 "nbformat_minor": 2
}
