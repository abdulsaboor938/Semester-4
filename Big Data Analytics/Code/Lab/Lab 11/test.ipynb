{
 "cells": [
  {
   "cell_type": "code",
   "execution_count": 21,
   "metadata": {},
   "outputs": [
    {
     "name": "stdout",
     "output_type": "stream",
     "text": [
      "45\n"
     ]
    }
   ],
   "source": [
    "temp=[]\n",
    "with open('Task2.txt') as file:\n",
    "    for i in file:\n",
    "        temp+=file\n",
    "with open('Task3.txt') as file:\n",
    "    for i in file:\n",
    "        temp+=file\n",
    "# for i in temp:\n",
    "#     print(i,end='')\n",
    "print(len(temp))"
   ]
  },
  {
   "cell_type": "code",
   "execution_count": 30,
   "metadata": {},
   "outputs": [
    {
     "name": "stdout",
     "output_type": "stream",
     "text": [
      "Traceback (most recent call last):\n",
      "  File \"/Users/carbon/Desktop/Semester-4/Big Data Analytics/Code/Lab/Lab 11/Task4r.py\", line 26, in <module>\n",
      "    if(x[1] != '<'):\n",
      "IndexError: list index out of range\n",
      "\n",
      "During handling of the above exception, another exception occurred:\n",
      "\n",
      "Traceback (most recent call last):\n",
      "  File \"/Users/carbon/Desktop/Semester-4/Big Data Analytics/Code/Lab/Lab 11/Task4r.py\", line 29, in <module>\n",
      "    temp.append(f\"{x[2]}\\t{x[0]}\\t{x[3]}\")\n",
      "IndexError: list index out of range\n"
     ]
    }
   ],
   "source": [
    "!cat Task2.txt Task3.txt | python Task4r.py"
   ]
  },
  {
   "cell_type": "code",
   "execution_count": 8,
   "metadata": {},
   "outputs": [
    {
     "name": "stdout",
     "output_type": "stream",
     "text": [
      "ali writes  on thursday\n",
      "ali writes  on thursday\n",
      "ali writes  on thursday\n",
      "ali writes  on thursday\n",
      "ali writes  on thursday\n",
      "ali writes  on thursday\n",
      "ali writes  on thursday\n",
      "ali writes  on thursday\n",
      "ali writes  on thursday\n",
      "ali writes on thursday\n",
      "ali writes on thursday\n",
      "ali writes on thursday\n",
      "ali writes on thursday\n",
      "ali writes on thursday\n",
      "ali writes on tuesday\n",
      "bilal writes on friday\n",
      "bilal writes on friday\n",
      "bilal writes on friday\n",
      "bilal writes on friday\n",
      "bilal writes on friday\n",
      "bilal writes on friday\n",
      "bilal writes on friday\n",
      "bilal writes on friday\n",
      "bilal writes on friday\n",
      "bilal writes on friday\n",
      "bilal writes on monday\n",
      "buzdsar writes on friday\n",
      "iffat writes on friday\n",
      "iffat writes on thursday\n",
      "ik writes on friday\n",
      "ik writes on sunday\n",
      "ik writes on sunday\n",
      "ik writes on sunday\n",
      "ik writes on sunday\n",
      "ik writes on sunday\n",
      "ik writes on sunday\n",
      "ik writes on sunday\n",
      "ik writes on sunday\n",
      "ik writes on sunday\n",
      "ik writes on sunday\n",
      "ik writes on sunday\n",
      "ik writes on sunday\n",
      "kakamon writes on wednessday\n",
      "khuzaima writes on wednessday\n",
      "lalu writes on friday\n",
      "lalu writes on friday\n",
      "maryn writes on saturday\n",
      "mia writes on friday\n",
      "mia writes on friday\n",
      "mia writes on friday\n",
      "usman writes on monday\n",
      "usman writes on monday\n",
      "usman writes on tuesday\n",
      "usman writes on wednessday\n",
      "usman writes on wednessday\n",
      "usman writes on wednessday\n",
      "usman writes on wednessday\n",
      "usman writes on wednessday\n",
      "usman writes on wednessday\n",
      "usman writes on wednessday\n",
      "usman writes on wednessday\n",
      "usman writes on wednessday\n",
      "usman writes on wednessday\n"
     ]
    }
   ],
   "source": [
    "!cat Dataset.txt | python3 Task1.py | sort -k1,1"
   ]
  },
  {
   "cell_type": "code",
   "execution_count": 11,
   "metadata": {},
   "outputs": [],
   "source": [
    "!cat Dataset.txt | python3 Task2m.py | sort -k1,1 | python3 Task2r.py -> Task2.txt"
   ]
  },
  {
   "cell_type": "code",
   "execution_count": 25,
   "metadata": {},
   "outputs": [
    {
     "name": "stdout",
     "output_type": "stream",
     "text": [
      "Tuesday\tAli\t1\n",
      "thursday\tAli\t5\n",
      "thursday\tAli!\t9\n",
      "Monday\tBilal\t1\n",
      "friday\tBuzdsar\t1\n",
      "Friday\tIK\t1\n",
      "Sunday\tIK\t12\n",
      "wednessday\tKakamon\t1\n",
      "wednessday\tKhuzaima\t1\n",
      "friday\tLalu.\t2\n",
      "Saturday\tMaryn\t1\n",
      "friday\tMia\t3\n",
      "friday\tbil-al\t1\n",
      "friday\tbilal\t3\n",
      "friday\tbilal.\t6\n",
      "Friday\tiffat\t1\n",
      "thursday\tiffat\t1\n",
      "wednessday\tus.man\t4\n",
      "Monday\tusman\t2\n",
      "Tuesday\tusman\t1\n",
      "wednessday\tusman\t6\n"
     ]
    }
   ],
   "source": [
    "!cat Dataset.txt | python3 Task3m.py | sort -k1,1 | python3 Task3r.py"
   ]
  },
  {
   "cell_type": "code",
   "execution_count": 30,
   "metadata": {},
   "outputs": [
    {
     "name": "stdout",
     "output_type": "stream",
     "text": [
      "Ali\t6\n",
      "Ali!\t9\n",
      "Bilal\t1\n",
      "Buzdsar\t1\n",
      "Friday\t2\n",
      "IK\t13\n",
      "Kakamon\t1\n",
      "Khuzaima\t1\n",
      "Lalu.\t2\n",
      "Maryn\t1\n",
      "Mia\t3\n",
      "Monday\t3\n",
      "Saturday\t1\n",
      "Sunday\t12\n",
      "Tuesday\t2\n",
      "bil-al\t1\n",
      "bilal\t3\n",
      "bilal.\t6\n",
      "friday\t16\n",
      "iffat\t2\n",
      "on\t63\n",
      "thursday\t15\n",
      "us.man\t4\n",
      "usman\t9\n",
      "wednessday\t12\n",
      "writes\t63\n",
      "Tuesday < Ali 1 >\n",
      "thursday < Ali 5 >\n",
      "thursday < Ali! 9 >\n",
      "Monday < Bilal 1 >\n",
      "friday < Buzdsar 1 >\n",
      "Friday < IK 1 >\n",
      "Sunday < IK 12 >\n",
      "wednessday < Kakamon 1 >\n",
      "wednessday < Khuzaima 1 >\n",
      "friday < Lalu. 2 >\n",
      "Saturday < Maryn 1 >\n",
      "friday < Mia 3 >\n",
      "friday < bil-al 1 >\n",
      "friday < bilal 3 >\n",
      "friday < bilal. 6 >\n",
      "Friday < iffat 1 >\n",
      "thursday < iffat 1 >\n",
      "wednessday < us.man 4 >\n",
      "Monday < usman 2 >\n",
      "Tuesday < usman 1 >\n",
      "wednessday < usman 6 >\n"
     ]
    }
   ],
   "source": [
    "!cat Task2.txt Task3.txt"
   ]
  }
 ],
 "metadata": {
  "interpreter": {
   "hash": "949510482b8eeb0db0de64008f8e13a21a90dd06afd7a8e21dd837eed22f74f3"
  },
  "kernelspec": {
   "display_name": "Python 3.9.7 ('base')",
   "language": "python",
   "name": "python3"
  },
  "language_info": {
   "codemirror_mode": {
    "name": "ipython",
    "version": 3
   },
   "file_extension": ".py",
   "mimetype": "text/x-python",
   "name": "python",
   "nbconvert_exporter": "python",
   "pygments_lexer": "ipython3",
   "version": "3.9.7"
  },
  "orig_nbformat": 4
 },
 "nbformat": 4,
 "nbformat_minor": 2
}
