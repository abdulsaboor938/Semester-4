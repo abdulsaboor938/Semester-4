{
 "cells": [
  {
   "cell_type": "code",
   "execution_count": 1,
   "metadata": {
    "collapsed": false,
    "pycharm": {
     "name": "#%%\n"
    }
   },
   "outputs": [
    {
     "name": "stdout",
     "output_type": "stream",
     "text": [
      "My child said \"Mom's car is broken on the treet\"\n",
      "2+3=5\n"
     ]
    }
   ],
   "source": [
    "# This is an implementation of task1\n",
    "print('My child said \\\"Mom\\'s car is broken on the treet\\\"','2+3=5',sep='\\n')"
   ]
  },
  {
   "cell_type": "code",
   "execution_count": 2,
   "metadata": {
    "collapsed": false,
    "pycharm": {
     "name": "#%%\n"
    }
   },
   "outputs": [
    {
     "name": "stdout",
     "output_type": "stream",
     "text": [
      "Sum of 2 & 5 is 7\n",
      "\n",
      "Sum of 2 & 5 is 7\n"
     ]
    }
   ],
   "source": [
    "# This is an implementation of task2\n",
    "var1=int(input(\"enter variable 1: \"))\n",
    "var2=int(input(\"Enter variable 2: \"))\n",
    "print(\"Sum of \", end='')\n",
    "print(var1, end=' ')\n",
    "print(\"&\", end=' ')\n",
    "print(var2, end=' ')\n",
    "print(\"is\",end=' ')\n",
    "print(var1+var2)\n",
    "print(f\"\\nSum of {var1} & {var2} is {var1+var2}\")"
   ]
  },
  {
   "cell_type": "code",
   "execution_count": 3,
   "metadata": {
    "collapsed": false,
    "pycharm": {
     "name": "#%%\n"
    }
   },
   "outputs": [
    {
     "name": "stdout",
     "output_type": "stream",
     "text": [
      "The volume of rod is 62.857\n"
     ]
    }
   ],
   "source": [
    "# This is an implementation of task3\n",
    "r=float(input('Enter radius of rod: '))\n",
    "h=float(input('Enter height of rod: '))\n",
    "print(f\"The volume of rod is {'%.3f' % ((22/7)*(r**2)*h)}\")"
   ]
  },
  {
   "cell_type": "code",
   "execution_count": 4,
   "metadata": {
    "collapsed": false,
    "pycharm": {
     "name": "#%%\n"
    }
   },
   "outputs": [
    {
     "name": "stdout",
     "output_type": "stream",
     "text": [
      "1 2 3 4 5 \n",
      "6 7 8 9 10 \n",
      "11 12 13 14 15 \n",
      "16 17 18 19 20 \n",
      "21 22 23 24 25 \n",
      "26 This person has Left the Uni 28 29 30 \n"
     ]
    }
   ],
   "source": [
    "# This is an implementation of task4\n",
    "for i in range(1, 31):\n",
    "    if (i==27):\n",
    "        print(\"This person has Left the Uni\",end=' ')\n",
    "    else:\n",
    "        print(i,end=' ')\n",
    "    if (i%5==0):\n",
    "        print()\n"
   ]
  },
  {
   "cell_type": "code",
   "execution_count": 5,
   "metadata": {
    "collapsed": false,
    "pycharm": {
     "name": "#%%\n"
    }
   },
   "outputs": [
    {
     "name": "stdout",
     "output_type": "stream",
     "text": [
      "r0a\n"
     ]
    }
   ],
   "source": [
    "# This is an implementation of task5\n",
    "x=str(input(\"Enter string: \"))\n",
    "print(x[-2]+'0'+x[1])"
   ]
  },
  {
   "cell_type": "code",
   "execution_count": 6,
   "metadata": {
    "collapsed": false,
    "pycharm": {
     "name": "#%%\n"
    }
   },
   "outputs": [
    {
     "name": "stdout",
     "output_type": "stream",
     "text": [
      "hira malik noor maira "
     ]
    }
   ],
   "source": [
    "# This is an implementation of task6\n",
    "list = [\"ali\",\"hira\",\"usman\",\"malik\",\"sheikh\",\"noor\",\"sakina\",\"maira\"]\n",
    "for i in range(len(list)):\n",
    "    if(i%2==1):\n",
    "        print(list[i],end=' ')"
   ]
  }
 ],
 "metadata": {
  "kernelspec": {
   "display_name": "Python 3",
   "language": "python",
   "name": "python3"
  },
  "language_info": {
   "codemirror_mode": {
    "name": "ipython",
    "version": 3
   },
   "file_extension": ".py",
   "mimetype": "text/x-python",
   "name": "python",
   "nbconvert_exporter": "python",
   "pygments_lexer": "ipython3",
   "version": "3.9.7"
  }
 },
 "nbformat": 4,
 "nbformat_minor": 0
}
